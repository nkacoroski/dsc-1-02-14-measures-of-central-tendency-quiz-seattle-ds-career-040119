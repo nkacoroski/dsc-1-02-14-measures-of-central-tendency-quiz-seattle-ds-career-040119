{
 "cells": [
  {
   "cell_type": "markdown",
   "metadata": {},
   "source": [
    "# Measures of Central Tendency - Quiz\n",
    "\n",
    "## Objectives\n",
    "You will be able to:\n",
    "* Understand and describe the significance of measuring central tendency of continuous data\n",
    "* Understand the formula and intuition behind the mean, median, mode and modal class\n",
    "* Compare mean-median-mode, along with histograms to explain the central tendency of given data"
   ]
  },
  {
   "cell_type": "markdown",
   "metadata": {},
   "source": [
    "**Note, for these exercises, you do not need to write code to answer them - we'll do that later. Just do them by hand or with a calculator to make sure you're comfortable with the process of calculating the answers!**\n",
    "\n",
    "### Exercise 1\n",
    "Calculate the mean, median and mode for this data set: \n",
    "```\n",
    "19, 18, 21, 16, 15, 17, 20, 18\n",
    "```\n",
    "While comparing the results of three measures, comment about this distribution. "
   ]
  },
  {
   "cell_type": "code",
   "execution_count": 1,
   "metadata": {},
   "outputs": [
    {
     "name": "stdout",
     "output_type": "stream",
     "text": [
      "2.0 2.0 There is no mode.\n"
     ]
    }
   ],
   "source": [
    "# data = [19, 18, 21, 16, 15, 17, 20, 18]\n",
    "data = [1, 1, 2, 2, 3, 3]\n",
    "data.sort()\n",
    "data_mean = sum(data) / len(data)\n",
    "\n",
    "def find_median(data_list):\n",
    "    \"\"\"Takes a list of numbers and finds the median.\"\"\"\n",
    "    data_list.sort()\n",
    "    if len(data_list) % 2 != 0:\n",
    "        return data_list[int(len(data_list) / 2 - 0.5)]\n",
    "    else:\n",
    "        return ((data_list[int(((len(data_list) / 2) - 1))] + data_list[int((len(data_list) / 2))]) / 2)\n",
    "\n",
    "data_median = find_median(data)\n",
    "\n",
    "def find_mode(data_list):\n",
    "    \"\"\"Takes a list of numbers and finds the mode.\"\"\"\n",
    "    # take element of list\n",
    "    # if element in counted elements dictionary add 1 to count\n",
    "    # if not, make new dictionary key/value with count 1\n",
    "    # return key with highest value\n",
    "    counted_elements = {}\n",
    "    mode = [[], 0]\n",
    "    for e in data_list:\n",
    "        if e in counted_elements:\n",
    "            counted_elements[e] += 1\n",
    "            if counted_elements[e] > mode[1]:\n",
    "                mode = [[e], counted_elements[e]]\n",
    "            elif counted_elements[e] == mode[1]:\n",
    "                mode[0].append(e)\n",
    "        else:\n",
    "            counted_elements[e] = 1\n",
    "    if len(data_list) == 0:\n",
    "        return f'The dataset is empty.'\n",
    "    elif len(data_list) == 1:\n",
    "        return data_list[0]\n",
    "    elif len(data_list) == 2 and data_list[0] != data_list[1]:\n",
    "        print('Hey! It is bimodal!')\n",
    "        return data_list\n",
    "    else:\n",
    "        if mode[0] == []:\n",
    "            return f'There is no mode...sad.'\n",
    "        elif len(mode[0]) == 1:\n",
    "            return mode[0][0]\n",
    "        elif len(mode[0]) == 2:\n",
    "            print('Hey! It is bimodal!')\n",
    "            return mode[0]\n",
    "        else:\n",
    "            return f'There is no mode.'\n",
    "    \n",
    "data_mode = find_mode(data)\n",
    "\n",
    "print(data_mean, data_median, data_mode)"
   ]
  },
  {
   "cell_type": "markdown",
   "metadata": {},
   "source": [
    "### Exercise 2\n",
    "\n",
    "Calculate the mean, median and mode for given distribution and state which of these measures does not describe the \"middle\" of this data set? and why ?\n",
    "```\n",
    "100, 99, 97, 97, 96, 98, 95, 72\n",
    "```"
   ]
  },
  {
   "cell_type": "code",
   "execution_count": 2,
   "metadata": {},
   "outputs": [
    {
     "data": {
      "text/plain": [
       "(94.25, 97.0, 97)"
      ]
     },
     "execution_count": 2,
     "metadata": {},
     "output_type": "execute_result"
    }
   ],
   "source": [
    "data_set = [100, 99, 97, 97, 96, 98, 95, 72]\n",
    "mean = sum(data_set) / len(data_set)\n",
    "median = find_median(data_set)\n",
    "mode = find_mode(data_set)\n",
    "mean, median, mode"
   ]
  },
  {
   "cell_type": "markdown",
   "metadata": {},
   "source": [
    "The mean because 72 is an outlier."
   ]
  },
  {
   "cell_type": "markdown",
   "metadata": {},
   "source": [
    "### Exercise 3\n",
    "On the first three days of his bookshop opening, Joe sold 15, 18, and 16 books (He initially hoped that he would sell 17 books every day).  How many books does he need to sell on the next day to have a mean sale of 17?"
   ]
  },
  {
   "cell_type": "code",
   "execution_count": 3,
   "metadata": {},
   "outputs": [
    {
     "name": "stdout",
     "output_type": "stream",
     "text": [
      "He needs to sell 19 books.\n"
     ]
    }
   ],
   "source": [
    "books_to_sell = 17 * 4 - (15 + 18 + 16)\n",
    "print(\"He needs to sell \" + str(books_to_sell) + \" books.\")"
   ]
  },
  {
   "cell_type": "markdown",
   "metadata": {},
   "source": [
    "### Exercise 4\n",
    "The histograms show the amount of time (hours per day) spent on Facebook by 46 middle school girls and 40 middle school boys from a school in San Francisco. A total of 50 boys and 50 girls took the survey, 4 girls and 10 boys did not use Facebook at all. \n",
    "Each is graphed with a bin width of 0.25 hours.\n",
    "\n",
    "![](boys.png)\n",
    "![](girls.png)\n",
    "\n",
    "Looking at these histograms, answer following questions. \n",
    "\n",
    "*Hint: For most parts, you will have to figure out the location of required bins and count the frequencies. *\n",
    "\n",
    "#### How many boys spend more than 1.5 hours/day on Facebook?\n"
   ]
  },
  {
   "cell_type": "markdown",
   "metadata": {},
   "source": [
    "8"
   ]
  },
  {
   "cell_type": "markdown",
   "metadata": {},
   "source": [
    "#### Compare the percentage of boys and girls that spend more than zero but less than 1 hour/day on Facebook."
   ]
  },
  {
   "cell_type": "markdown",
   "metadata": {},
   "source": [
    "22% of the girls spend more than zero but less than 1 hour per day on Facebook, while 40% boys spend the same amount of time on Facebook. "
   ]
  },
  {
   "cell_type": "markdown",
   "metadata": {},
   "source": [
    "#### Find the bin where the median of the boys' data set lies."
   ]
  },
  {
   "cell_type": "markdown",
   "metadata": {},
   "source": [
    "The median of the boys' data set lies in the 0.75 to 1 hour bin."
   ]
  },
  {
   "cell_type": "markdown",
   "metadata": {},
   "source": [
    "#### In terms of Facebook usage times based on given data, what can you conclude about usage habits of boys and girls?"
   ]
  },
  {
   "cell_type": "markdown",
   "metadata": {},
   "source": [
    "Girls spend more time than boys on the site. Boys max at 2 hours at day, girls' time varies from 0 to 4 hours per day."
   ]
  },
  {
   "cell_type": "code",
   "execution_count": null,
   "metadata": {},
   "outputs": [],
   "source": []
  }
 ],
 "metadata": {
  "kernelspec": {
   "display_name": "Python 3",
   "language": "python",
   "name": "python3"
  },
  "language_info": {
   "codemirror_mode": {
    "name": "ipython",
    "version": 3
   },
   "file_extension": ".py",
   "mimetype": "text/x-python",
   "name": "python",
   "nbconvert_exporter": "python",
   "pygments_lexer": "ipython3",
   "version": "3.6.6"
  }
 },
 "nbformat": 4,
 "nbformat_minor": 2
}
